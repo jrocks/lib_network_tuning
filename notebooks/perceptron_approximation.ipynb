{
 "cells": [
  {
   "cell_type": "code",
   "execution_count": 1,
   "metadata": {
    "collapsed": false
   },
   "outputs": [
    {
     "name": "stdout",
     "output_type": "stream",
     "text": [
      "Loading Mechanical Network Deformation Solver Module\n"
     ]
    }
   ],
   "source": [
    "import sys, os\n",
    "sys.path.insert(0, '/data1/home/rocks/discrete_elasticity_v2/')\n",
    "sys.path.insert(0, '/data1/home/rocks/discrete_elasticity_v2/python_src/')\n",
    "\n",
    "import numpy as np\n",
    "import scipy as sp\n",
    "import scipy.optimize as opt\n",
    "import numpy.random as rand\n",
    "import numpy.linalg as la\n",
    "import gzip\n",
    "import cPickle as pickle\n",
    "import matplotlib.pyplot as plt; plt.rcdefaults()\n",
    "import seaborn as sns\n",
    "%matplotlib inline\n",
    "\n",
    "import mech_network_solver as mns\n",
    "import network\n",
    "import tuning_algs as talgs\n",
    "import network_plot as nplot\n",
    "import nonlin_solver as nls\n",
    "\n",
    "sns.set(color_codes=True)\n",
    "sns.set_context('poster', font_scale=1.75)\n",
    "sns.set_palette(\"hls\", 8)\n",
    "# sns.set_palette(\"muted\", 8)\n",
    "sns.set_style('ticks', {'xtick.direction': 'in','ytick.direction': 'in', 'axes.linewidth': 2.0})"
   ]
  },
  {
   "cell_type": "code",
   "execution_count": 20,
   "metadata": {
    "collapsed": false
   },
   "outputs": [
    {
     "name": "stdout",
     "output_type": "stream",
     "text": [
      "128\n",
      "173\n",
      "True\n",
      "[[31]] [[44]] [[22, 13]] [[60, 54]]\n"
     ]
    }
   ],
   "source": [
    "DIM = 2\n",
    "\n",
    "eta = 0.01\n",
    "NTS = 2\n",
    "Lp = -1.0\n",
    "NN = 64\n",
    "irec = 1\n",
    "\n",
    "nw_label = \"network_periodic_jammed/network_N{:05d}_Lp{:.2f}/network_irec{:04d}\".format(NN, Lp, irec)\n",
    "\n",
    "with gzip.open(\"/data1/home/rocks/data/{:}.pklz\".format(nw_label), 'rb') as pkl_file:\n",
    "\n",
    "    nw_data = pickle.load(pkl_file)\n",
    "    net = nw_data['network']   \n",
    "    \n",
    "    print net.DIM * net.NN\n",
    "    print net.NE\n",
    "    \n",
    "rand.seed(13)\n",
    "\n",
    "(success, inodesi, inodesj, onodesi, onodesj) = talgs.chooseFeasibleEdges(net, eta, NTS)\n",
    "print success\n",
    "print inodesi, inodesj, onodesi, onodesj"
   ]
  },
  {
   "cell_type": "code",
   "execution_count": 21,
   "metadata": {
    "collapsed": false
   },
   "outputs": [],
   "source": [
    "NF = 1\n",
    "\n",
    "isvec = [[] for t in range(NF)]\n",
    "for t in range(NF):\n",
    "    for (i, j) in zip(inodesi[t], inodesj[t]):\n",
    "        posi = net.node_pos[DIM*i:DIM*i+DIM]\n",
    "        posj = net.node_pos[DIM*j:DIM*j+DIM]\n",
    "        bvec = posj - posi\n",
    "        bvec -= np.round(bvec/net.L)*net.L\n",
    "        isvec[t].extend(bvec) \n",
    "\n",
    "istrain = [[] for t in range(NF)]\n",
    "istrain[0].append(1.0)\n",
    "\n",
    "\n",
    "osvec = [[] for t in range(NF)]\n",
    "ostrain = [[] for t in range(NF)]\n",
    "for t in range(NF):\n",
    "    for (i, j) in zip(onodesi[t], onodesj[t]):\n",
    "        posi = net.node_pos[DIM*i:DIM*i+DIM]\n",
    "        posj = net.node_pos[DIM*j:DIM*j+DIM]\n",
    "        bvec = posj - posi\n",
    "        bvec -= np.round(bvec/net.L)*net.L\n",
    "        osvec[t].extend(bvec) \n",
    "\n",
    "        r = rand.randint(2)\n",
    "        ostrain[t].append((2*r-1) * eta)\n",
    "\n",
    "pert = []\n",
    "meas = []\n",
    "for t in range(NF):\n",
    "    pert.append(talgs.Perturb())\n",
    "    pert[t].setInputStrain(len(inodesi[t]), inodesi[t], inodesj[t], istrain[t], isvec[t])\n",
    "\n",
    "    meas.append(talgs.Measure())\n",
    "    meas[t].setOutputStrain(len(onodesi[t]), onodesi[t], onodesj[t], osvec[t])\n",
    "\n",
    "obj_func = mns.CyIneqRatioChangeObjFunc(len(np.concatenate(ostrain)), net.NE, \n",
    "                                        np.zeros(len(np.concatenate(ostrain)), float), np.concatenate(ostrain))    \n",
    "\n",
    "\n",
    "K_init = np.ones(net.NE, float) / net.eq_length\n",
    "\n",
    "tuner = talgs.TuneContLin(net, pert, meas, obj_func, K_init)\n",
    "\n",
    "cypert = []\n",
    "for p in pert:\n",
    "    cypert.append(p.getCyPert())\n",
    "\n",
    "cymeas = []\n",
    "for m in meas:\n",
    "    cymeas.append(m.getCyMeas())\n",
    "\n",
    "solver = mns.CyLinSolver(net.getCyNetwork(), len(cypert), cypert, cymeas)\n",
    "solver.setIntStrengths(K_init)\n",
    "\n",
    "(meas, grad) = solver.solveMeasGrad()\n",
    "\n",
    "M = grad[0]"
   ]
  },
  {
   "cell_type": "code",
   "execution_count": 22,
   "metadata": {
    "collapsed": false
   },
   "outputs": [
    {
     "name": "stdout",
     "output_type": "stream",
     "text": [
      "True 0.0\n",
      "[ -1.86970126e-02   0.00000000e+00  -1.05773047e-01   0.00000000e+00\n",
      "  -1.82848775e-02   0.00000000e+00  -4.35843671e-02  -4.25755324e-03\n",
      "   0.00000000e+00  -4.21106870e-02   0.00000000e+00   0.00000000e+00\n",
      "  -1.09797608e-02   0.00000000e+00   0.00000000e+00   0.00000000e+00\n",
      "  -2.36864397e-01  -3.00804051e-03   0.00000000e+00   0.00000000e+00\n",
      "  -7.11656221e-02  -2.53805905e-03  -2.00280830e-02   0.00000000e+00\n",
      "   0.00000000e+00   0.00000000e+00   0.00000000e+00  -1.70342212e-01\n",
      "   0.00000000e+00  -2.64105264e-01   0.00000000e+00  -2.07602356e-02\n",
      "   0.00000000e+00  -2.29485420e-03  -5.83894571e-03   0.00000000e+00\n",
      "  -2.65043104e-02  -2.08049267e-01   0.00000000e+00  -1.40332656e-03\n",
      "  -4.12546521e-02  -5.62707472e-02  -1.01612713e-01  -5.70074833e-02\n",
      "  -1.89295739e-02   0.00000000e+00  -1.64742640e-02   0.00000000e+00\n",
      "  -1.09751148e-03   0.00000000e+00  -1.34151919e-01   0.00000000e+00\n",
      "   0.00000000e+00  -4.89989805e-03   0.00000000e+00  -2.96279444e-01\n",
      "  -1.25546432e-01   0.00000000e+00   0.00000000e+00   0.00000000e+00\n",
      "   0.00000000e+00  -2.54454304e-01  -3.57546640e-01  -7.12246144e-01\n",
      "  -6.07441279e-02   0.00000000e+00  -6.23577797e-03   0.00000000e+00\n",
      "   0.00000000e+00   0.00000000e+00  -4.63262481e-02  -5.41600266e-02\n",
      "  -8.31481719e-02  -2.56561702e-01   0.00000000e+00  -3.63126064e-01\n",
      "  -2.77343330e-01   0.00000000e+00   0.00000000e+00   0.00000000e+00\n",
      "  -4.35439030e-03  -1.07176662e+00  -4.33680869e-17   0.00000000e+00\n",
      "   0.00000000e+00   0.00000000e+00  -9.41689294e-01  -2.48492295e-02\n",
      "   0.00000000e+00  -1.19013398e-01  -2.57671076e-01   0.00000000e+00\n",
      "  -4.37072717e-02  -7.67017245e-01  -1.14501157e-02  -3.38580354e-02\n",
      "  -1.76986406e-01   0.00000000e+00   0.00000000e+00  -6.02335393e-03\n",
      "  -4.79126767e-02   0.00000000e+00   0.00000000e+00   0.00000000e+00\n",
      "   0.00000000e+00   0.00000000e+00   0.00000000e+00  -9.51745876e-02\n",
      "  -3.41784078e-02  -8.27223793e-03   0.00000000e+00  -7.45049369e-03\n",
      "   0.00000000e+00   0.00000000e+00   0.00000000e+00  -6.07602474e-02\n",
      "  -1.81284973e-02   0.00000000e+00  -1.59242412e-02  -1.49464591e-02\n",
      "  -5.57588395e-02  -3.07603474e-03   0.00000000e+00   0.00000000e+00\n",
      "  -4.16371678e-04   0.00000000e+00  -1.76145603e-02  -1.88184508e-03\n",
      "   0.00000000e+00  -1.10063929e-01  -4.13820595e-02   0.00000000e+00\n",
      "  -3.26654483e-04  -1.52238325e-02  -3.60128512e-02   0.00000000e+00\n",
      "   0.00000000e+00  -3.48969235e-03  -1.50545723e-05   0.00000000e+00\n",
      "   0.00000000e+00  -2.36534635e-01  -2.16822958e-03   0.00000000e+00\n",
      "  -1.23824357e-02  -3.13727220e-02   0.00000000e+00  -7.48169000e-02\n",
      "   0.00000000e+00   0.00000000e+00  -3.36403092e-02   0.00000000e+00\n",
      "  -8.74458521e-02   0.00000000e+00  -2.49378626e-02  -1.16567017e-02\n",
      "   0.00000000e+00  -3.53561387e-02  -1.01303452e-02  -5.46534434e-02\n",
      "  -9.76002186e-04   0.00000000e+00   0.00000000e+00  -1.45898059e-02\n",
      "  -1.59577645e-02   0.00000000e+00  -1.26059640e-02  -4.38790882e-02\n",
      "  -2.72333073e-03   0.00000000e+00  -1.08400515e-01   0.00000000e+00\n",
      "   0.00000000e+00]\n"
     ]
    }
   ],
   "source": [
    "def func(dK):\n",
    "    \n",
    "    meas = M.dot(dK)\n",
    "        \n",
    "    return obj_func.objFunc(meas)\n",
    "    \n",
    "def grad(dK):\n",
    "    \n",
    "    meas = M.dot(dK)\n",
    "    \n",
    "    meas_grad = M\n",
    "        \n",
    "    return obj_func.objFuncGrad(meas, meas_grad)\n",
    "    \n",
    "tol = 10*np.finfo(float).eps\n",
    "res = opt.minimize(func, np.zeros(net.NE, float), method='L-BFGS-B', callback=None, \n",
    "                   bounds=zip(-K_init+1e-6, np.zeros(net.NE, float)),\n",
    "                       jac=grad, options={'ftol': tol, 'gtol': tol,'maxcor': 10,\n",
    "                                                      'maxiter':10000000, 'maxfun': 10000000, 'maxls': 10000000})\n",
    "\n",
    "print res.success, res.fun\n",
    "dK = res.x\n",
    "\n",
    "print dK"
   ]
  },
  {
   "cell_type": "code",
   "execution_count": 23,
   "metadata": {
    "collapsed": false
   },
   "outputs": [
    {
     "name": "stdout",
     "output_type": "stream",
     "text": [
      "0.0330015000086\n"
     ]
    }
   ],
   "source": [
    "print tuner.func(K_init+dK)"
   ]
  },
  {
   "cell_type": "code",
   "execution_count": null,
   "metadata": {
    "collapsed": true
   },
   "outputs": [],
   "source": []
  }
 ],
 "metadata": {
  "kernelspec": {
   "display_name": "Python [conda env:default]",
   "language": "python",
   "name": "conda-env-default-py"
  },
  "language_info": {
   "codemirror_mode": {
    "name": "ipython",
    "version": 2
   },
   "file_extension": ".py",
   "mimetype": "text/x-python",
   "name": "python",
   "nbconvert_exporter": "python",
   "pygments_lexer": "ipython2",
   "version": "2.7.13"
  }
 },
 "nbformat": 4,
 "nbformat_minor": 2
}
