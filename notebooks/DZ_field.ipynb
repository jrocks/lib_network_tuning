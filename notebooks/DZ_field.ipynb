{
 "cells": [
  {
   "cell_type": "code",
   "execution_count": 1,
   "metadata": {
    "collapsed": false
   },
   "outputs": [
    {
     "name": "stdout",
     "output_type": "stream",
     "text": [
      "Loading Mechanical Network Deformation Solver Module\n"
     ]
    }
   ],
   "source": [
    "import sys, os\n",
    "sys.path.insert(0, '../')\n",
    "sys.path.insert(0, '../python_src/')\n",
    "\n",
    "import numpy as np\n",
    "import scipy as sp\n",
    "import pandas as pd\n",
    "import numpy.random as rand\n",
    "import scipy.optimize as spo\n",
    "import cPickle as pickle\n",
    "import portalocker\n",
    "import matplotlib.pyplot as plt; plt.rcdefaults()\n",
    "import seaborn as sns\n",
    "import shutil, shelve\n",
    "import tarfile\n",
    "import time\n",
    "import itertools as it\n",
    "import matplotlib.lines as mlines\n",
    "import matplotlib as mpl\n",
    "\n",
    "import mech_network_solver as mns\n",
    "import network\n",
    "import tuning_algs as talgs\n",
    "import network_plot as nplot\n",
    "\n",
    "mpl.rcParams['mathtext.fontset'] = 'cm'\n",
    "sns.set(color_codes=True)\n",
    "sns.set_context('talk', font_scale=1.75)\n",
    "# sns.set_palette(\"hls\", 9)\n",
    "sns.set_palette(\"Blues\", 6)\n",
    "sns.set_style('ticks', {'xtick.direction': 'in','ytick.direction': 'in', 'axes.linewidth': 2.0})"
   ]
  },
  {
   "cell_type": "code",
   "execution_count": null,
   "metadata": {
    "collapsed": true
   },
   "outputs": [],
   "source": [
    "directory = \"/data1/home/rocks/data/sat_transition/tune_disc_local_2D_23/\"\n",
    "\n",
    "\n",
    "t0 = time.time()\n",
    "\n",
    "# os.remove(directory+\"tune_analysis.pkl\")\n",
    "\n",
    "db = shelve.open(directory+\"tune_db.bin\", flag='r')    \n",
    "\n",
    "files = set(db.keys())\n",
    "\n",
    "\n",
    "print len(files)\n",
    "\n",
    "for i, fn in enumerate(files):\n",
    "    if i % 1000 == 0:\n",
    "        print i\n",
    "    \n",
    "    data = db[fn]\n",
    "    "
   ]
  }
 ],
 "metadata": {
  "kernelspec": {
   "display_name": "Python [default]",
   "language": "python",
   "name": "python2"
  },
  "language_info": {
   "codemirror_mode": {
    "name": "ipython",
    "version": 2
   },
   "file_extension": ".py",
   "mimetype": "text/x-python",
   "name": "python",
   "nbconvert_exporter": "python",
   "pygments_lexer": "ipython2",
   "version": "2.7.13"
  }
 },
 "nbformat": 4,
 "nbformat_minor": 2
}
